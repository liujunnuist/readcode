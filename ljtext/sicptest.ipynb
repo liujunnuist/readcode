{
 "cells": [
  {
   "cell_type": "code",
   "execution_count": 1,
   "metadata": {},
   "outputs": [],
   "source": [
    "from pyscipopt import Model,quicksum, multidict\n",
    "import numpy as np"
   ]
  },
  {
   "cell_type": "code",
   "execution_count": 2,
   "metadata": {},
   "outputs": [],
   "source": [
    "model = Model(\"Example\")"
   ]
  },
  {
   "cell_type": "code",
   "execution_count": 3,
   "metadata": {},
   "outputs": [
    {
     "data": {
      "text/plain": [
       "array([[1, 1, 1, 1, 1, 1, 1, 1, 1, 1],\n",
       "       [1, 1, 1, 1, 1, 1, 1, 1, 1, 1],\n",
       "       [1, 1, 1, 1, 1, 1, 1, 1, 1, 1],\n",
       "       [1, 1, 1, 1, 1, 1, 1, 1, 1, 1],\n",
       "       [1, 1, 1, 1, 1, 1, 1, 1, 1, 1]])"
      ]
     },
     "execution_count": 3,
     "metadata": {},
     "output_type": "execute_result"
    }
   ],
   "source": [
    "M =5\n",
    "N =10\n",
    "L = [10,19,91,18,14]\n",
    "S = [14,14,18,20,25]\n",
    "D = [2,4,3,8,3,8,3,4,5,5]\n",
    "C = []  #单位运输费用\n",
    "for i in range(5):\n",
    "    C.append([])\n",
    "    for j in range(10):\n",
    "        C[i].append(1)\n",
    "C = np.array(C)\n",
    "C"
   ]
  },
  {
   "cell_type": "code",
   "execution_count": 4,
   "metadata": {},
   "outputs": [],
   "source": [
    "Q ={}\n",
    "for i in range(1,M+1):\n",
    "    for j in range(1,N+1):\n",
    "        Q[i,j] = model.addVar(vtype=\"C\", name=\"Q(%s,%s)\"%(i,j))"
   ]
  },
  {
   "cell_type": "code",
   "execution_count": 5,
   "metadata": {},
   "outputs": [],
   "source": [
    "X = {}\n",
    "for i in range(1,M+1):\n",
    "    for j in range(1,N+1):\n",
    "        X[i,j] = model.addVar(vtype=\"B\", name=\"x(%s,%s)\"%(i,j))"
   ]
  },
  {
   "cell_type": "code",
   "execution_count": 6,
   "metadata": {},
   "outputs": [],
   "source": [
    "for i in range(1,M+1):\n",
    "    model.addCons(quicksum(Q[i,j] for j in range(1,N+1)) <= S[i-1], \"Out(%s)\"%i)"
   ]
  },
  {
   "cell_type": "code",
   "execution_count": 7,
   "metadata": {},
   "outputs": [],
   "source": [
    "for j in range(1,N+1):\n",
    "    model.addCons(quicksum(Q[i,j] for i in range(1,M+1)) >= D[i-1], \"Out(%s)\"%j)"
   ]
  },
  {
   "cell_type": "code",
   "execution_count": 8,
   "metadata": {},
   "outputs": [],
   "source": [
    "for i in range(1,M+1):\n",
    "    for j in range(1,N+1):\n",
    "        model.addCons(1000* X[i,j] >= Q[i, j], \"MTZ(%s,%s)\"%(i,j))\n",
    "        model.addCons(X[i,j] <= Q [i,j],\"MTZ(%s,%s)\"%(i,j))"
   ]
  },
  {
   "cell_type": "code",
   "execution_count": 9,
   "metadata": {},
   "outputs": [],
   "source": [
    "for i in range(1, M+1):\n",
    "    model.addCons(quicksum(X[i, j] for j in range(1, N+1))<= L[i-1],\"Out(%s)\"%i)"
   ]
  },
  {
   "cell_type": "code",
   "execution_count": 10,
   "metadata": {},
   "outputs": [],
   "source": [
    " model.setObjective(quicksum(C[i-1,j-1]*Q[i,j] for (i,j) in Q), \"minimize\")"
   ]
  },
  {
   "cell_type": "code",
   "execution_count": 11,
   "metadata": {},
   "outputs": [],
   "source": [
    "model.optimize()"
   ]
  },
  {
   "cell_type": "code",
   "execution_count": null,
   "metadata": {},
   "outputs": [],
   "source": [
    " model.data = Q"
   ]
  },
  {
   "cell_type": "code",
   "execution_count": null,
   "metadata": {},
   "outputs": [],
   "source": [
    "print(\"obj:\", model.getObjVal())\n",
    "print(\"gap:\", model.getGap())\n",
    "for v in model.getVars():\n",
    "    if model.getVal(v)> 0:\n",
    "        print(v.name, \"=\", model.getVal(v))"
   ]
  },
  {
   "cell_type": "code",
   "execution_count": null,
   "metadata": {},
   "outputs": [],
   "source": []
  },
  {
   "cell_type": "code",
   "execution_count": null,
   "metadata": {},
   "outputs": [],
   "source": []
  },
  {
   "cell_type": "code",
   "execution_count": null,
   "metadata": {},
   "outputs": [],
   "source": []
  }
 ],
 "metadata": {
  "kernelspec": {
   "display_name": "Python 3",
   "language": "python",
   "name": "python3"
  },
  "language_info": {
   "codemirror_mode": {
    "name": "ipython",
    "version": 3
   },
   "file_extension": ".py",
   "mimetype": "text/x-python",
   "name": "python",
   "nbconvert_exporter": "python",
   "pygments_lexer": "ipython3",
   "version": "3.6.8"
  }
 },
 "nbformat": 4,
 "nbformat_minor": 2
}
